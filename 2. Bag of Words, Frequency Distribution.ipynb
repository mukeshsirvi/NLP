{
 "cells": [
  {
   "cell_type": "markdown",
   "id": "f32fd92c",
   "metadata": {},
   "source": [
    "# Bag of words"
   ]
  },
  {
   "cell_type": "code",
   "execution_count": 6,
   "id": "0301ab2a",
   "metadata": {},
   "outputs": [
    {
     "data": {
      "text/html": [
       "<div>\n",
       "<style scoped>\n",
       "    .dataframe tbody tr th:only-of-type {\n",
       "        vertical-align: middle;\n",
       "    }\n",
       "\n",
       "    .dataframe tbody tr th {\n",
       "        vertical-align: top;\n",
       "    }\n",
       "\n",
       "    .dataframe thead th {\n",
       "        text-align: right;\n",
       "    }\n",
       "</style>\n",
       "<table border=\"1\" class=\"dataframe\">\n",
       "  <thead>\n",
       "    <tr style=\"text-align: right;\">\n",
       "      <th></th>\n",
       "      <th>bites</th>\n",
       "      <th>dog</th>\n",
       "      <th>eats</th>\n",
       "      <th>food</th>\n",
       "      <th>man</th>\n",
       "      <th>meat</th>\n",
       "    </tr>\n",
       "  </thead>\n",
       "  <tbody>\n",
       "    <tr>\n",
       "      <th>0</th>\n",
       "      <td>1</td>\n",
       "      <td>1</td>\n",
       "      <td>0</td>\n",
       "      <td>0</td>\n",
       "      <td>1</td>\n",
       "      <td>0</td>\n",
       "    </tr>\n",
       "    <tr>\n",
       "      <th>1</th>\n",
       "      <td>1</td>\n",
       "      <td>1</td>\n",
       "      <td>0</td>\n",
       "      <td>0</td>\n",
       "      <td>1</td>\n",
       "      <td>0</td>\n",
       "    </tr>\n",
       "    <tr>\n",
       "      <th>2</th>\n",
       "      <td>0</td>\n",
       "      <td>1</td>\n",
       "      <td>1</td>\n",
       "      <td>0</td>\n",
       "      <td>0</td>\n",
       "      <td>1</td>\n",
       "    </tr>\n",
       "    <tr>\n",
       "      <th>3</th>\n",
       "      <td>0</td>\n",
       "      <td>0</td>\n",
       "      <td>1</td>\n",
       "      <td>1</td>\n",
       "      <td>1</td>\n",
       "      <td>0</td>\n",
       "    </tr>\n",
       "  </tbody>\n",
       "</table>\n",
       "</div>"
      ],
      "text/plain": [
       "   bites  dog  eats  food  man  meat\n",
       "0      1    1     0     0    1     0\n",
       "1      1    1     0     0    1     0\n",
       "2      0    1     1     0    0     1\n",
       "3      0    0     1     1    1     0"
      ]
     },
     "execution_count": 6,
     "metadata": {},
     "output_type": "execute_result"
    }
   ],
   "source": [
    "import pandas as pd\n",
    "from sklearn.feature_extraction.text import CountVectorizer\n",
    "from nltk import word_tokenize\n",
    "cv=CountVectorizer()\n",
    "text1='''Dog bites man.\n",
    "        Man bites dog\n",
    "        Dog eats meat\n",
    "        Man eats food'''\n",
    "word=word_tokenize(text1)\n",
    "bow=cv.fit_transform(text1.splitlines())\n",
    "pd.DataFrame(bow.toarray(),columns=cv.get_feature_names_out())"
   ]
  },
  {
   "cell_type": "markdown",
   "id": "5b9b329d",
   "metadata": {},
   "source": [
    "# Frequency Distribution of words"
   ]
  },
  {
   "cell_type": "code",
   "execution_count": null,
   "id": "b6c2fff7",
   "metadata": {},
   "outputs": [],
   "source": [
    "import matplotlib.pyplot as plt\n",
    "i\n",
    "text2='''In publishing and graphic design, Lorem ipsum is a placeholder text commonly used to demonstrate \n",
    "the visual form of a document or a typeface without relying on meaningful content. \n",
    "Lorem ipsum may be used as a placeholder before final copy is available. \n",
    "It is also used to temporarily replace text in a process called greeking, which allows designers \n",
    "to consider the form of a webpage or publication, without the meaning of the text influencing the design.'''\n",
    "word2=word_tokenize(text2)\n",
    "fd=nltk.Fr"
   ]
  }
 ],
 "metadata": {
  "kernelspec": {
   "display_name": "Python 3 (ipykernel)",
   "language": "python",
   "name": "python3"
  },
  "language_info": {
   "codemirror_mode": {
    "name": "ipython",
    "version": 3
   },
   "file_extension": ".py",
   "mimetype": "text/x-python",
   "name": "python",
   "nbconvert_exporter": "python",
   "pygments_lexer": "ipython3",
   "version": "3.10.1"
  }
 },
 "nbformat": 4,
 "nbformat_minor": 5
}
